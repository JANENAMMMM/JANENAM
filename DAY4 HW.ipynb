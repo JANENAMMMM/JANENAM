{
 "cells": [
  {
   "cell_type": "code",
   "execution_count": 11,
   "metadata": {},
   "outputs": [
    {
     "data": {
      "text/plain": [
       "[1]"
      ]
     },
     "execution_count": 11,
     "metadata": {},
     "output_type": "execute_result"
    }
   ],
   "source": [
    "#모의고사_itertools.cycle이용\n",
    "def solution(answers):\n",
    "    import itertools\n",
    "    inf_m1=iter(itertools.cycle([1,2,3,4,5]))\n",
    "    inf_m2=iter(itertools.cycle([2,1,2,3,2,4,2,5]))\n",
    "    inf_m3=iter(itertools.cycle([3,3,1,1,2,2,4,4,5,5]))\n",
    "    inf_answers=iter(answers)\n",
    "    scores=[0,0,0]\n",
    "    for i in range(len(answers)):\n",
    "        value=next(inf_answers)\n",
    "        if value==next(inf_m1):\n",
    "            scores[0]+=1\n",
    "        if value==next(inf_m2):\n",
    "            scores[1]+=1\n",
    "        if value==next(inf_m3):\n",
    "            scores[2]+=1\n",
    "    if max(scores)==scores[0]==scores[1]==scores[2]:\n",
    "        return([1,2,3])\n",
    "    elif max(scores)==scores[0]==scores[1]:\n",
    "        return([1,2])\n",
    "    elif max(scores)==scores[0]==scores[2]:\n",
    "        return([1,3])\n",
    "    elif max(scores)==scores[1]==scores[2]:\n",
    "        return([2,3])\n",
    "    elif max(scores)==scores[0]:\n",
    "        return([1])\n",
    "    elif max(scores)==scores[1]:\n",
    "        return([2])\n",
    "    elif max(scores)==scores[2]:\n",
    "        return([3])"
   ]
  },
  {
   "cell_type": "code",
   "execution_count": 14,
   "metadata": {},
   "outputs": [],
   "source": [
    "#모의고사_itertools.cycle 이용x, enumerate 사용\n",
    "#나머지(%)로 인덱스 표현해주기\n",
    "def solution(answers):\n",
    "    p1=[1,2,3,4,5]\n",
    "    p2=[2,1,2,3,2,4,2,5]\n",
    "    p3=[3,3,1,1,2,2,4,4,5,5]\n",
    "    scores=[0,0,0]\n",
    "    result=[]\n",
    "    for index,answer in enumerate(answers):\n",
    "        if answer==p1[index%len(p1)]:\n",
    "            scores[0]+=1\n",
    "        if answer==p2[index%len(p2)]:\n",
    "            scores[1]+=1\n",
    "        if answer==p3[index%len(p3)]:\n",
    "            scores[2]+=1\n",
    "    for index,score in enumerate(scores):\n",
    "        if score==max(scores):\n",
    "            result.append(index+1)\n",
    "    return result\n",
    "        "
   ]
  },
  {
   "cell_type": "code",
   "execution_count": 15,
   "metadata": {},
   "outputs": [],
   "source": [
    "#itertools.cycle , enumerate 사용 x\n",
    "#모의고사_itertools.cycle 이용x, enumerate 사용\n",
    "def solution(answers):\n",
    "    p1=[1,2,3,4,5]\n",
    "    p2=[2,1,2,3,2,4,2,5]\n",
    "    p3=[3,3,1,1,2,2,4,4,5,5]\n",
    "    scores=[0,0,0]\n",
    "    result=[]\n",
    "    index1=0\n",
    "    for answer in answers:\n",
    "        if answer==p1[index1%len(p1)]:\n",
    "            scores[0]+=1\n",
    "        if answer==p2[index1%len(p2)]:\n",
    "            scores[1]+=1\n",
    "        if answer==p3[index1%len(p3)]:\n",
    "            scores[2]+=1\n",
    "        index1+=1\n",
    "    index2=0\n",
    "    for score in scores:\n",
    "        if score==max(scores):\n",
    "            result.append(index2+1)\n",
    "        index2+=1\n",
    "    return result\n",
    "        "
   ]
  },
  {
   "cell_type": "code",
   "execution_count": 43,
   "metadata": {},
   "outputs": [],
   "source": [
    "#키패드 누르기\n",
    "def solution(numbers, hand):\n",
    "    def closer(L,R,target):\n",
    "        def indexing(a):\n",
    "            if a==1:\n",
    "                return [0,0]\n",
    "            elif a==2:\n",
    "                return [0,1]\n",
    "            elif a==3:\n",
    "                return [0,2]\n",
    "            elif a==4:\n",
    "                return [1,0]\n",
    "            elif a==5:\n",
    "                return [1,1]\n",
    "            elif a==6:\n",
    "                 return [1,2]\n",
    "            elif a==7:\n",
    "                return [2,0]\n",
    "            elif a==8:\n",
    "                return [2,1]\n",
    "            elif a==9:\n",
    "                return [2,2]\n",
    "            elif a==\"*\":\n",
    "                return [3,0]\n",
    "            elif a==0:\n",
    "                return [3,1]\n",
    "            elif a==\"#\":\n",
    "                return [3,2]\n",
    "        Ldistance=abs(indexing(L)[0]-indexing(target)[0])+abs(indexing(L)[1]-indexing(target)[1])\n",
    "        Rdistance=abs(indexing(R)[0]-indexing(target)[0])+abs(indexing(R)[1]-indexing(target)[1])\n",
    "        if Ldistance<Rdistance:\n",
    "            return \"L\"\n",
    "        elif Ldistance>Rdistance:\n",
    "            return \"R\"\n",
    "        elif Ldistance==Rdistance:\n",
    "            if hand==\"right\":\n",
    "                return \"R\"\n",
    "            elif hand==\"left\":\n",
    "                return \"L\"     \n",
    "    Rhand=\"#\"\n",
    "    Lhand=\"*\"\n",
    "    answer=[]\n",
    "    for i in numbers:\n",
    "        if i in [1,4,7,\"*\"]:\n",
    "            Lhand=i\n",
    "            answer.append(\"L\")\n",
    "        elif i in [3,6,9,\"#\"]:\n",
    "            Rhand=i\n",
    "            answer.append(\"R\")\n",
    "        elif i in [2,5,8,0]:\n",
    "            if closer(Lhand,Rhand,i)==\"L\":\n",
    "                Lhand=i\n",
    "                answer.append(\"L\")\n",
    "            else:\n",
    "                Rhand=i\n",
    "                answer.append(\"R\")\n",
    "    return(\"\".join(answer))"
   ]
  },
  {
   "cell_type": "code",
   "execution_count": 24,
   "metadata": {},
   "outputs": [],
   "source": [
    "#점프와 순간 이동\n",
    "def solution(n):\n",
    "    battery=0\n",
    "    while True:\n",
    "        if n%2==0:\n",
    "            n=n/2\n",
    "        else:\n",
    "            n=n-1\n",
    "            battery+=1\n",
    "        if n==0:\n",
    "            break\n",
    "    return battery"
   ]
  },
  {
   "cell_type": "code",
   "execution_count": null,
   "metadata": {},
   "outputs": [],
   "source": [
    "#멀쩡한 사각형\n",
    "def solution(w,h):\n",
    "    import math\n",
    "    gcd=math.gcd(w,h)\n",
    "    erase_per_sector=(w/gcd)+(h/gcd)-1\n",
    "    erase_entire=erase_per_sector*gcd\n",
    "    return w*h-erase_entire"
   ]
  },
  {
   "cell_type": "code",
   "execution_count": 55,
   "metadata": {},
   "outputs": [],
   "source": [
    "#오픈채팅방\n",
    "def solution(record):\n",
    "    answer = []\n",
    "    status={}\n",
    "    for event in record:\n",
    "        list=event.split(\" \")\n",
    "        if (list[0]==\"Enter\") or (list[0]==\"Change\"):\n",
    "            status[list[1]]=list[2]\n",
    "    for event in record:\n",
    "        list=event.split(\" \")\n",
    "        if list[0]==\"Enter\":\n",
    "            answer.append(status[list[1]]+\"님이 들어왔습니다.\")\n",
    "        elif list[0]==\"Leave\":\n",
    "            answer.append(status[list[1]]+\"님이 나갔습니다.\")\n",
    "    return answer\n"
   ]
  },
  {
   "cell_type": "code",
   "execution_count": null,
   "metadata": {},
   "outputs": [],
   "source": []
  },
  {
   "cell_type": "code",
   "execution_count": null,
   "metadata": {},
   "outputs": [],
   "source": []
  }
 ],
 "metadata": {
  "interpreter": {
   "hash": "3c0de19fed8c78b73dd30544a946f2a989f798f4cd73ad806763b111d9896f62"
  },
  "kernelspec": {
   "display_name": "Python 3.10.0 64-bit",
   "language": "python",
   "name": "python3"
  },
  "language_info": {
   "codemirror_mode": {
    "name": "ipython",
    "version": 3
   },
   "file_extension": ".py",
   "mimetype": "text/x-python",
   "name": "python",
   "nbconvert_exporter": "python",
   "pygments_lexer": "ipython3",
   "version": "3.10.0"
  },
  "orig_nbformat": 4
 },
 "nbformat": 4,
 "nbformat_minor": 2
}
